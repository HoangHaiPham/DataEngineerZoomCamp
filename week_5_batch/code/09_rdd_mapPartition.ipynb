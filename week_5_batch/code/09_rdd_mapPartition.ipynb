{
 "cells": [
  {
   "cell_type": "code",
   "execution_count": 1,
   "metadata": {},
   "outputs": [
    {
     "name": "stderr",
     "output_type": "stream",
     "text": [
      "Setting default log level to \"WARN\".\n",
      "To adjust logging level use sc.setLogLevel(newLevel). For SparkR, use setLogLevel(newLevel).\n",
      "24/04/14 21:06:16 WARN NativeCodeLoader: Unable to load native-hadoop library for your platform... using builtin-java classes where applicable\n"
     ]
    }
   ],
   "source": [
    "import pyspark\n",
    "from pyspark.sql import SparkSession\n",
    "\n",
    "spark = SparkSession.builder \\\n",
    "  .master(\"local[*]\") \\\n",
    "  .appName(\"test\") \\\n",
    "  .config(\"spark.executor.instances\", \"8\") \\\n",
    "  .getOrCreate()"
   ]
  },
  {
   "cell_type": "code",
   "execution_count": 13,
   "metadata": {},
   "outputs": [],
   "source": [
    "df_green = spark.read.parquet(\"../../../data/pg/green/2020/01/part-00000-fc72b89e-f8fc-4908-9c19-50a5c59c6a30-c000.snappy.parquet\")"
   ]
  },
  {
   "cell_type": "code",
   "execution_count": 14,
   "metadata": {},
   "outputs": [],
   "source": [
    "columns = ['VendorID', 'lpep_pickup_datetime', 'PULocationID', 'DOLocationID', 'trip_distance']\n",
    "\n",
    "duration_rdd = df_green \\\n",
    "  .select(columns) \\\n",
    "  .rdd\n",
    "  \n"
   ]
  },
  {
   "cell_type": "code",
   "execution_count": 15,
   "metadata": {},
   "outputs": [],
   "source": [
    "import pandas as pd "
   ]
  },
  {
   "cell_type": "code",
   "execution_count": 16,
   "metadata": {},
   "outputs": [
    {
     "name": "stderr",
     "output_type": "stream",
     "text": [
      "                                                                                \r"
     ]
    }
   ],
   "source": [
    "rows = duration_rdd.take(10)"
   ]
  },
  {
   "cell_type": "code",
   "execution_count": 17,
   "metadata": {},
   "outputs": [
    {
     "data": {
      "text/plain": [
       "[Row(VendorID=2, lpep_pickup_datetime=datetime.datetime(2020, 1, 3, 18, 30, 27), PULocationID=10, DOLocationID=215, trip_distance=2.18),\n",
       " Row(VendorID=None, lpep_pickup_datetime=datetime.datetime(2020, 1, 5, 14, 36), PULocationID=205, DOLocationID=264, trip_distance=12.52),\n",
       " Row(VendorID=2, lpep_pickup_datetime=datetime.datetime(2020, 1, 14, 12, 55, 57), PULocationID=75, DOLocationID=238, trip_distance=1.51),\n",
       " Row(VendorID=2, lpep_pickup_datetime=datetime.datetime(2020, 1, 29, 13, 54, 57), PULocationID=7, DOLocationID=82, trip_distance=3.22),\n",
       " Row(VendorID=1, lpep_pickup_datetime=datetime.datetime(2020, 1, 24, 22, 29, 42), PULocationID=25, DOLocationID=87, trip_distance=2.7),\n",
       " Row(VendorID=None, lpep_pickup_datetime=datetime.datetime(2020, 1, 8, 9, 4), PULocationID=131, DOLocationID=92, trip_distance=7.85),\n",
       " Row(VendorID=2, lpep_pickup_datetime=datetime.datetime(2020, 1, 3, 17, 46, 47), PULocationID=74, DOLocationID=74, trip_distance=0.86),\n",
       " Row(VendorID=2, lpep_pickup_datetime=datetime.datetime(2020, 1, 18, 15, 19, 16), PULocationID=97, DOLocationID=181, trip_distance=0.08),\n",
       " Row(VendorID=2, lpep_pickup_datetime=datetime.datetime(2020, 1, 19, 9, 57, 59), PULocationID=41, DOLocationID=74, trip_distance=0.74),\n",
       " Row(VendorID=2, lpep_pickup_datetime=datetime.datetime(2020, 1, 11, 12, 8, 30), PULocationID=260, DOLocationID=82, trip_distance=2.9)]"
      ]
     },
     "execution_count": 17,
     "metadata": {},
     "output_type": "execute_result"
    }
   ],
   "source": [
    "rows"
   ]
  },
  {
   "cell_type": "code",
   "execution_count": 18,
   "metadata": {},
   "outputs": [
    {
     "data": {
      "text/html": [
       "<div>\n",
       "<style scoped>\n",
       "    .dataframe tbody tr th:only-of-type {\n",
       "        vertical-align: middle;\n",
       "    }\n",
       "\n",
       "    .dataframe tbody tr th {\n",
       "        vertical-align: top;\n",
       "    }\n",
       "\n",
       "    .dataframe thead th {\n",
       "        text-align: right;\n",
       "    }\n",
       "</style>\n",
       "<table border=\"1\" class=\"dataframe\">\n",
       "  <thead>\n",
       "    <tr style=\"text-align: right;\">\n",
       "      <th></th>\n",
       "      <th>VendorID</th>\n",
       "      <th>lpep_pickup_datetime</th>\n",
       "      <th>PULocationID</th>\n",
       "      <th>DOLocationID</th>\n",
       "      <th>trip_distance</th>\n",
       "    </tr>\n",
       "  </thead>\n",
       "  <tbody>\n",
       "    <tr>\n",
       "      <th>0</th>\n",
       "      <td>2.0</td>\n",
       "      <td>2020-01-03 18:30:27</td>\n",
       "      <td>10</td>\n",
       "      <td>215</td>\n",
       "      <td>2.18</td>\n",
       "    </tr>\n",
       "    <tr>\n",
       "      <th>1</th>\n",
       "      <td>NaN</td>\n",
       "      <td>2020-01-05 14:36:00</td>\n",
       "      <td>205</td>\n",
       "      <td>264</td>\n",
       "      <td>12.52</td>\n",
       "    </tr>\n",
       "    <tr>\n",
       "      <th>2</th>\n",
       "      <td>2.0</td>\n",
       "      <td>2020-01-14 12:55:57</td>\n",
       "      <td>75</td>\n",
       "      <td>238</td>\n",
       "      <td>1.51</td>\n",
       "    </tr>\n",
       "    <tr>\n",
       "      <th>3</th>\n",
       "      <td>2.0</td>\n",
       "      <td>2020-01-29 13:54:57</td>\n",
       "      <td>7</td>\n",
       "      <td>82</td>\n",
       "      <td>3.22</td>\n",
       "    </tr>\n",
       "    <tr>\n",
       "      <th>4</th>\n",
       "      <td>1.0</td>\n",
       "      <td>2020-01-24 22:29:42</td>\n",
       "      <td>25</td>\n",
       "      <td>87</td>\n",
       "      <td>2.70</td>\n",
       "    </tr>\n",
       "    <tr>\n",
       "      <th>5</th>\n",
       "      <td>NaN</td>\n",
       "      <td>2020-01-08 09:04:00</td>\n",
       "      <td>131</td>\n",
       "      <td>92</td>\n",
       "      <td>7.85</td>\n",
       "    </tr>\n",
       "    <tr>\n",
       "      <th>6</th>\n",
       "      <td>2.0</td>\n",
       "      <td>2020-01-03 17:46:47</td>\n",
       "      <td>74</td>\n",
       "      <td>74</td>\n",
       "      <td>0.86</td>\n",
       "    </tr>\n",
       "    <tr>\n",
       "      <th>7</th>\n",
       "      <td>2.0</td>\n",
       "      <td>2020-01-18 15:19:16</td>\n",
       "      <td>97</td>\n",
       "      <td>181</td>\n",
       "      <td>0.08</td>\n",
       "    </tr>\n",
       "    <tr>\n",
       "      <th>8</th>\n",
       "      <td>2.0</td>\n",
       "      <td>2020-01-19 09:57:59</td>\n",
       "      <td>41</td>\n",
       "      <td>74</td>\n",
       "      <td>0.74</td>\n",
       "    </tr>\n",
       "    <tr>\n",
       "      <th>9</th>\n",
       "      <td>2.0</td>\n",
       "      <td>2020-01-11 12:08:30</td>\n",
       "      <td>260</td>\n",
       "      <td>82</td>\n",
       "      <td>2.90</td>\n",
       "    </tr>\n",
       "  </tbody>\n",
       "</table>\n",
       "</div>"
      ],
      "text/plain": [
       "   VendorID lpep_pickup_datetime  PULocationID  DOLocationID  trip_distance\n",
       "0       2.0  2020-01-03 18:30:27            10           215           2.18\n",
       "1       NaN  2020-01-05 14:36:00           205           264          12.52\n",
       "2       2.0  2020-01-14 12:55:57            75           238           1.51\n",
       "3       2.0  2020-01-29 13:54:57             7            82           3.22\n",
       "4       1.0  2020-01-24 22:29:42            25            87           2.70\n",
       "5       NaN  2020-01-08 09:04:00           131            92           7.85\n",
       "6       2.0  2020-01-03 17:46:47            74            74           0.86\n",
       "7       2.0  2020-01-18 15:19:16            97           181           0.08\n",
       "8       2.0  2020-01-19 09:57:59            41            74           0.74\n",
       "9       2.0  2020-01-11 12:08:30           260            82           2.90"
      ]
     },
     "execution_count": 18,
     "metadata": {},
     "output_type": "execute_result"
    }
   ],
   "source": [
    "pd.DataFrame(rows, columns=columns)"
   ]
  },
  {
   "cell_type": "code",
   "execution_count": 19,
   "metadata": {},
   "outputs": [
    {
     "data": {
      "text/plain": [
       "[Pandas(Index=0, VendorID=2.0, lpep_pickup_datetime=Timestamp('2020-01-03 18:30:27'), PULocationID=10, DOLocationID=215, trip_distance=2.18),\n",
       " Pandas(Index=1, VendorID=nan, lpep_pickup_datetime=Timestamp('2020-01-05 14:36:00'), PULocationID=205, DOLocationID=264, trip_distance=12.52),\n",
       " Pandas(Index=2, VendorID=2.0, lpep_pickup_datetime=Timestamp('2020-01-14 12:55:57'), PULocationID=75, DOLocationID=238, trip_distance=1.51),\n",
       " Pandas(Index=3, VendorID=2.0, lpep_pickup_datetime=Timestamp('2020-01-29 13:54:57'), PULocationID=7, DOLocationID=82, trip_distance=3.22),\n",
       " Pandas(Index=4, VendorID=1.0, lpep_pickup_datetime=Timestamp('2020-01-24 22:29:42'), PULocationID=25, DOLocationID=87, trip_distance=2.7),\n",
       " Pandas(Index=5, VendorID=nan, lpep_pickup_datetime=Timestamp('2020-01-08 09:04:00'), PULocationID=131, DOLocationID=92, trip_distance=7.85),\n",
       " Pandas(Index=6, VendorID=2.0, lpep_pickup_datetime=Timestamp('2020-01-03 17:46:47'), PULocationID=74, DOLocationID=74, trip_distance=0.86),\n",
       " Pandas(Index=7, VendorID=2.0, lpep_pickup_datetime=Timestamp('2020-01-18 15:19:16'), PULocationID=97, DOLocationID=181, trip_distance=0.08),\n",
       " Pandas(Index=8, VendorID=2.0, lpep_pickup_datetime=Timestamp('2020-01-19 09:57:59'), PULocationID=41, DOLocationID=74, trip_distance=0.74),\n",
       " Pandas(Index=9, VendorID=2.0, lpep_pickup_datetime=Timestamp('2020-01-11 12:08:30'), PULocationID=260, DOLocationID=82, trip_distance=2.9)]"
      ]
     },
     "execution_count": 19,
     "metadata": {},
     "output_type": "execute_result"
    }
   ],
   "source": [
    "df = pd.DataFrame(rows, columns=columns)\n",
    "list(df.itertuples())"
   ]
  },
  {
   "cell_type": "code",
   "execution_count": 20,
   "metadata": {},
   "outputs": [
    {
     "data": {
      "text/plain": [
       "[0, 1, 2, 3, 4, 5, 6, 7, 8, 9, 10, 11, 12, 13, 14, 15]"
      ]
     },
     "execution_count": 20,
     "metadata": {},
     "output_type": "execute_result"
    }
   ],
   "source": [
    "def infinite_seq():\n",
    "  i = 0\n",
    "  while True:\n",
    "    yield i\n",
    "    i = i + 1\n",
    "    \n",
    "    if i > 15:\n",
    "      break\n",
    "    \n",
    "seq = infinite_seq()\n",
    "list(seq)"
   ]
  },
  {
   "cell_type": "code",
   "execution_count": 21,
   "metadata": {},
   "outputs": [],
   "source": [
    "for i in seq:\n",
    "  print(i)\n",
    "  if i >= 10:\n",
    "    break"
   ]
  },
  {
   "cell_type": "code",
   "execution_count": 22,
   "metadata": {},
   "outputs": [],
   "source": [
    "# model = ...\n",
    "\n",
    "def model_predict(df):\n",
    "  # y_pred = model.predict(df)\n",
    "  y_pred = df.trip_distance * 5\n",
    "  return y_pred"
   ]
  },
  {
   "cell_type": "code",
   "execution_count": 23,
   "metadata": {},
   "outputs": [],
   "source": [
    "def apply_model_in_batch(rows):\n",
    "  df = pd.DataFrame(rows, columns=columns)\n",
    "  predictions = model_predict(df)\n",
    "  df['predicted_duration']  = predictions\n",
    "\n",
    "  for row in df.itertuples():\n",
    "    yield row  "
   ]
  },
  {
   "cell_type": "code",
   "execution_count": 24,
   "metadata": {},
   "outputs": [
    {
     "name": "stderr",
     "output_type": "stream",
     "text": [
      "                                                                                \r"
     ]
    },
    {
     "data": {
      "text/plain": [
       "[Pandas(Index=0, VendorID=2.0, lpep_pickup_datetime=Timestamp('2020-01-03 18:30:27'), PULocationID=10, DOLocationID=215, trip_distance=2.18, predicted_duration=10.9),\n",
       " Pandas(Index=1, VendorID=nan, lpep_pickup_datetime=Timestamp('2020-01-05 14:36:00'), PULocationID=205, DOLocationID=264, trip_distance=12.52, predicted_duration=62.599999999999994),\n",
       " Pandas(Index=2, VendorID=2.0, lpep_pickup_datetime=Timestamp('2020-01-14 12:55:57'), PULocationID=75, DOLocationID=238, trip_distance=1.51, predicted_duration=7.55),\n",
       " Pandas(Index=3, VendorID=2.0, lpep_pickup_datetime=Timestamp('2020-01-29 13:54:57'), PULocationID=7, DOLocationID=82, trip_distance=3.22, predicted_duration=16.1),\n",
       " Pandas(Index=4, VendorID=1.0, lpep_pickup_datetime=Timestamp('2020-01-24 22:29:42'), PULocationID=25, DOLocationID=87, trip_distance=2.7, predicted_duration=13.5),\n",
       " Pandas(Index=5, VendorID=nan, lpep_pickup_datetime=Timestamp('2020-01-08 09:04:00'), PULocationID=131, DOLocationID=92, trip_distance=7.85, predicted_duration=39.25),\n",
       " Pandas(Index=6, VendorID=2.0, lpep_pickup_datetime=Timestamp('2020-01-03 17:46:47'), PULocationID=74, DOLocationID=74, trip_distance=0.86, predicted_duration=4.3),\n",
       " Pandas(Index=7, VendorID=2.0, lpep_pickup_datetime=Timestamp('2020-01-18 15:19:16'), PULocationID=97, DOLocationID=181, trip_distance=0.08, predicted_duration=0.4),\n",
       " Pandas(Index=8, VendorID=2.0, lpep_pickup_datetime=Timestamp('2020-01-19 09:57:59'), PULocationID=41, DOLocationID=74, trip_distance=0.74, predicted_duration=3.7),\n",
       " Pandas(Index=9, VendorID=2.0, lpep_pickup_datetime=Timestamp('2020-01-11 12:08:30'), PULocationID=260, DOLocationID=82, trip_distance=2.9, predicted_duration=14.5)]"
      ]
     },
     "execution_count": 24,
     "metadata": {},
     "output_type": "execute_result"
    }
   ],
   "source": [
    "duration_rdd.mapPartitions(apply_model_in_batch).take(10)"
   ]
  },
  {
   "cell_type": "code",
   "execution_count": 25,
   "metadata": {},
   "outputs": [
    {
     "name": "stderr",
     "output_type": "stream",
     "text": [
      "                                                                                \r"
     ]
    }
   ],
   "source": [
    "df_predicts = duration_rdd \\\n",
    "  .mapPartitions(apply_model_in_batch) \\\n",
    "  .toDF() \\\n",
    "  .drop('Index')"
   ]
  },
  {
   "cell_type": "code",
   "execution_count": 26,
   "metadata": {},
   "outputs": [
    {
     "name": "stderr",
     "output_type": "stream",
     "text": [
      "                                                                                \r"
     ]
    },
    {
     "name": "stdout",
     "output_type": "stream",
     "text": [
      "+------------------+\n",
      "|predicted_duration|\n",
      "+------------------+\n",
      "|              10.9|\n",
      "|62.599999999999994|\n",
      "|              7.55|\n",
      "|              16.1|\n",
      "|              13.5|\n",
      "|             39.25|\n",
      "|               4.3|\n",
      "|               0.4|\n",
      "|               3.7|\n",
      "|              14.5|\n",
      "|              17.2|\n",
      "|              15.9|\n",
      "|             47.35|\n",
      "|              4.25|\n",
      "|              13.5|\n",
      "|57.300000000000004|\n",
      "|             17.95|\n",
      "|               4.0|\n",
      "|               5.0|\n",
      "|               8.5|\n",
      "+------------------+\n",
      "only showing top 20 rows\n",
      "\n"
     ]
    }
   ],
   "source": [
    "df_predicts.select('predicted_duration').show()"
   ]
  },
  {
   "cell_type": "code",
   "execution_count": null,
   "metadata": {},
   "outputs": [],
   "source": []
  }
 ],
 "metadata": {
  "kernelspec": {
   "display_name": "Python 3",
   "language": "python",
   "name": "python3"
  },
  "language_info": {
   "codemirror_mode": {
    "name": "ipython",
    "version": 3
   },
   "file_extension": ".py",
   "mimetype": "text/x-python",
   "name": "python",
   "nbconvert_exporter": "python",
   "pygments_lexer": "ipython3",
   "version": "3.9.13"
  }
 },
 "nbformat": 4,
 "nbformat_minor": 2
}
