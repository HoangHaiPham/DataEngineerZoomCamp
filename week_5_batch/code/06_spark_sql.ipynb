{
 "cells": [
  {
   "cell_type": "code",
   "execution_count": 1,
   "metadata": {},
   "outputs": [
    {
     "name": "stderr",
     "output_type": "stream",
     "text": [
      "Setting default log level to \"WARN\".\n",
      "To adjust logging level use sc.setLogLevel(newLevel). For SparkR, use setLogLevel(newLevel).\n",
      "24/04/06 08:19:45 WARN NativeCodeLoader: Unable to load native-hadoop library for your platform... using builtin-java classes where applicable\n"
     ]
    }
   ],
   "source": [
    "import pyspark\n",
    "from pyspark.sql import SparkSession\n",
    "\n",
    "spark = SparkSession.builder \\\n",
    "    .master(\"local[*]\") \\\n",
    "    .appName(\"test\") \\\n",
    "    .getOrCreate()"
   ]
  },
  {
   "cell_type": "code",
   "execution_count": 21,
   "metadata": {},
   "outputs": [],
   "source": [
    "df_green = spark.read.parquet('../../../data/pg/green/*/*')\n",
    "df_green = df_green \\\n",
    "        .withColumnRenamed('lpep_pickup_datetime', 'pickup_datetime') \\\n",
    "        .withColumnRenamed('lpep_dropoff_datetime', 'dropoff_datetime')"
   ]
  },
  {
   "cell_type": "code",
   "execution_count": 22,
   "metadata": {},
   "outputs": [],
   "source": [
    "df_yellow = spark.read.parquet('../../../data/pg/yellow/*/*')\n",
    "df_yellow = df_yellow \\\n",
    "        .withColumnRenamed('tpep_pickup_datetime', 'pickup_datetime') \\\n",
    "        .withColumnRenamed('tpep_dropoff_datetime', 'dropoff_datetime')"
   ]
  },
  {
   "cell_type": "code",
   "execution_count": 26,
   "metadata": {},
   "outputs": [],
   "source": [
    "# Get common columns between green and yellow dataframes\n",
    "# set(df_green.columns) & set(df_yellow.columns)\n",
    "\n",
    "commom_columns = []\n",
    "yellow_columns = set(df_yellow.columns)\n",
    "\n",
    "for col in df_green.columns:\n",
    "  if col in yellow_columns:\n",
    "    commom_columns.append(col)"
   ]
  },
  {
   "cell_type": "code",
   "execution_count": 27,
   "metadata": {},
   "outputs": [
    {
     "data": {
      "text/plain": [
       "['VendorID',\n",
       " 'pickup_datetime',\n",
       " 'dropoff_datetime',\n",
       " 'store_and_fwd_flag',\n",
       " 'RatecodeID',\n",
       " 'PULocationID',\n",
       " 'DOLocationID',\n",
       " 'passenger_count',\n",
       " 'trip_distance',\n",
       " 'fare_amount',\n",
       " 'extra',\n",
       " 'mta_tax',\n",
       " 'tip_amount',\n",
       " 'tolls_amount',\n",
       " 'improvement_surcharge',\n",
       " 'total_amount',\n",
       " 'payment_type',\n",
       " 'congestion_surcharge']"
      ]
     },
     "execution_count": 27,
     "metadata": {},
     "output_type": "execute_result"
    }
   ],
   "source": [
    "commom_columns"
   ]
  },
  {
   "cell_type": "code",
   "execution_count": 30,
   "metadata": {},
   "outputs": [],
   "source": [
    "from pyspark.sql import functions as F"
   ]
  },
  {
   "cell_type": "code",
   "execution_count": 34,
   "metadata": {},
   "outputs": [],
   "source": [
    "df_green_sel = df_green \\\n",
    "  .select(commom_columns) \\\n",
    "  .withColumn('service_type', F.lit('green'))"
   ]
  },
  {
   "cell_type": "code",
   "execution_count": 35,
   "metadata": {},
   "outputs": [],
   "source": [
    "df_yellow_sel = df_yellow \\\n",
    "  .select(commom_columns) \\\n",
    "  .withColumn('service_type', F.lit('yellow'))"
   ]
  },
  {
   "cell_type": "code",
   "execution_count": 36,
   "metadata": {},
   "outputs": [],
   "source": [
    "df_trips_data = df_green_sel.unionAll(df_yellow_sel)"
   ]
  },
  {
   "cell_type": "code",
   "execution_count": 37,
   "metadata": {},
   "outputs": [
    {
     "name": "stderr",
     "output_type": "stream",
     "text": [
      "[Stage 14:===================================================>    (23 + 2) / 25]\r"
     ]
    },
    {
     "name": "stdout",
     "output_type": "stream",
     "text": [
      "+------------+--------+\n",
      "|service_type|   count|\n",
      "+------------+--------+\n",
      "|       green| 2304517|\n",
      "|      yellow|39649199|\n",
      "+------------+--------+\n",
      "\n"
     ]
    },
    {
     "name": "stderr",
     "output_type": "stream",
     "text": [
      "                                                                                \r"
     ]
    }
   ],
   "source": [
    "df_trips_data.groupBy('service_type').count().show()"
   ]
  },
  {
   "cell_type": "code",
   "execution_count": 38,
   "metadata": {},
   "outputs": [
    {
     "name": "stderr",
     "output_type": "stream",
     "text": [
      "/usr/local/Cellar/apache-spark/3.5.0/libexec/python/pyspark/sql/dataframe.py:329: FutureWarning: Deprecated in 2.0, use createOrReplaceTempView instead.\n",
      "  warnings.warn(\"Deprecated in 2.0, use createOrReplaceTempView instead.\", FutureWarning)\n"
     ]
    }
   ],
   "source": [
    "# Need to let spark know that this dataframe is a table\n",
    "# => register a temporary table for this dataframe\n",
    "df_trips_data.registerTempTable('trips_data')"
   ]
  },
  {
   "cell_type": "code",
   "execution_count": 41,
   "metadata": {},
   "outputs": [
    {
     "name": "stderr",
     "output_type": "stream",
     "text": [
      "[Stage 18:=====================================================>  (24 + 1) / 25]\r"
     ]
    },
    {
     "name": "stdout",
     "output_type": "stream",
     "text": [
      "+------------+--------+\n",
      "|service_type|count(1)|\n",
      "+------------+--------+\n",
      "|       green| 2304517|\n",
      "|      yellow|39649199|\n",
      "+------------+--------+\n",
      "\n"
     ]
    },
    {
     "name": "stderr",
     "output_type": "stream",
     "text": [
      "                                                                                \r"
     ]
    }
   ],
   "source": [
    "spark.sql(\"\"\"\n",
    "  SELECT service_type,\n",
    "    count(1)\n",
    "  FROM trips_data \n",
    "  GROUP BY service_type;        \n",
    "\"\"\").show()"
   ]
  },
  {
   "cell_type": "code",
   "execution_count": 43,
   "metadata": {},
   "outputs": [],
   "source": [
    "df_result = spark.sql(\"\"\"\n",
    "    SELECT \n",
    "        -- Reveneue grouping \n",
    "        PULocationID AS revenue_zone,\n",
    "        --date_trunc('month', pickup_datetime) AS revenue_month, \n",
    "        --Note: For BQ use instead: date_trunc(pickup_datetime, month) AS revenue_month, \n",
    "        date_trunc('month', pickup_datetime) AS revenue_month, \n",
    "        service_type, \n",
    "\n",
    "        -- Revenue calculation \n",
    "        SUM(fare_amount) AS revenue_monthly_fare,\n",
    "        SUM(extra) AS revenue_monthly_extra,\n",
    "        SUM(mta_tax) AS revenue_monthly_mta_tax,\n",
    "        SUM(tip_amount) AS revenue_monthly_tip_amount,\n",
    "        SUM(tolls_amount) AS revenue_monthly_tolls_amount,\n",
    "        --SUM(ehail_fee) AS revenue_monthly_ehail_fee,\n",
    "        SUM(improvement_surcharge) AS revenue_monthly_improvement_surcharge,\n",
    "        SUM(total_amount) AS revenue_monthly_total_amount,\n",
    "        SUM(congestion_surcharge) AS revenue_monthly_congestion_surcharge,\n",
    "\n",
    "        -- Additional calculations\n",
    "        AVG(passenger_count) AS avg_montly_passenger_count,\n",
    "        AVG(trip_distance) AS avg_montly_trip_distance\n",
    "\n",
    "    FROM trips_data\n",
    "    GROUP BY 1, 2, 3\n",
    "\"\"\")"
   ]
  },
  {
   "cell_type": "code",
   "execution_count": 44,
   "metadata": {},
   "outputs": [
    {
     "name": "stderr",
     "output_type": "stream",
     "text": [
      "[Stage 21:===================================================>    (23 + 2) / 25]\r"
     ]
    },
    {
     "name": "stdout",
     "output_type": "stream",
     "text": [
      "+------------+-------------------+------------+--------------------+---------------------+-----------------------+--------------------------+----------------------------+-------------------------------------+----------------------------+------------------------------------+--------------------------+------------------------+\n",
      "|revenue_zone|      revenue_month|service_type|revenue_monthly_fare|revenue_monthly_extra|revenue_monthly_mta_tax|revenue_monthly_tip_amount|revenue_monthly_tolls_amount|revenue_monthly_improvement_surcharge|revenue_monthly_total_amount|revenue_monthly_congestion_surcharge|avg_montly_passenger_count|avg_montly_trip_distance|\n",
      "+------------+-------------------+------------+--------------------+---------------------+-----------------------+--------------------------+----------------------------+-------------------------------------+----------------------------+------------------------------------+--------------------------+------------------------+\n",
      "|         127|2020-02-01 00:00:00|       green|  21571.680000000004|               890.75|                  495.0|        1050.5200000000004|          488.80000000000024|                   345.00000000000375|          25119.149999999838|                               264.0|        1.1945837512537614|       4.583894472361811|\n",
      "|           9|2020-02-01 00:00:00|       green|   7251.639999999996|               643.25|                   25.0|         7.720000000000001|          183.20000000000002|                     77.9999999999998|           8193.510000000002|                                2.75|        1.1219512195121952|      445.80187969924816|\n",
      "|          47|2020-01-01 00:00:00|       green|  16630.150000000034|               1192.0|                  160.0|        42.230000000000004|           523.0000000000003|                   210.90000000000228|           18770.42999999991|                                11.0|         1.177685950413223|      4.6450000000000005|\n",
      "|         180|2020-02-01 00:00:00|       green|  2817.1500000000005|                178.0|                   15.0|                     12.52|                       37.47|                    30.00000000000003|          3090.1399999999994|                                 0.0|        1.0606060606060606|                  5.7353|\n",
      "|          53|2020-01-01 00:00:00|       green|   6281.649999999992|               330.25|                   49.0|         39.21999999999999|          102.50000000000001|                    68.39999999999971|           6873.770000000006|                                2.75|        1.2417582417582418|       6.929710743801653|\n",
      "|         128|2020-01-01 00:00:00|       green|  3261.3300000000004|                158.0|                   35.5|                     82.25|          104.04000000000002|                    34.50000000000003|           3714.020000000003|                                27.5|        1.0169491525423728|      7.0232800000000015|\n",
      "|         150|2020-01-01 00:00:00|       green|   9996.160000000005|                627.5|                   98.0|         97.86999999999999|          149.14000000000004|                   109.49999999999932|          11082.069999999976|                                 0.0|        1.1147540983606556|       5.393588516746412|\n",
      "|         263|2020-01-01 00:00:00|       green|   8987.339999999997|                561.0|                 124.55|        315.27000000000004|           335.0600000000002|                   127.19999999999915|           10684.16999999999|                              239.25|        1.4293478260869565|       5.264249422632796|\n",
      "|          19|2020-01-01 00:00:00|       green|   7798.880000000002|                377.0|                   42.0|                      6.66|          174.40000000000006|                    67.49999999999972|           8466.440000000008|                                 0.0|                  1.046875|      7.8507818930041156|\n",
      "|          81|2020-02-01 00:00:00|       green|            17340.13|               1127.5|                  110.5|                     20.75|           991.5900000000004|                    149.3999999999993|          19743.770000000008|                                 0.0|        1.2653061224489797|       8.627810760667908|\n",
      "|          22|2020-02-01 00:00:00|       green|  17398.530000000035|               1148.5|                   99.5|                      74.4|           478.5700000000002|                   164.99999999999915|          19367.249999999978|                                2.75|        1.1590909090909092|       6.001778523489934|\n",
      "|          40|2020-02-01 00:00:00|       green|  21840.030000000013|                896.5|                  831.0|        3179.4299999999985|           397.8000000000002|                    517.8000000000083|            28638.2599999998|                              967.75|        1.2492456246228123|      2.8544061962134255|\n",
      "|          37|2020-02-01 00:00:00|       green|   23375.71000000003|              1982.75|                  229.0|        428.94999999999993|           527.5100000000002|                   284.10000000000207|          26942.419999999976|                              104.25|        1.2318059299191375|      4.4949211045364885|\n",
      "|         186|2020-01-01 00:00:00|       green|  1539.2300000000002|                85.25|                    6.0|                       0.0|           97.92000000000002|                   13.800000000000011|                      1742.2|                                 0.0|        1.6666666666666667|       9.389565217391304|\n",
      "|          71|2020-02-01 00:00:00|       green|   26571.90000000008|               2603.5|                  195.0|                     30.23|          465.54000000000025|                   308.40000000000254|          30183.969999999925|                                 5.5|                    1.1875|       4.293813708260105|\n",
      "|          38|2020-02-01 00:00:00|       green|   8637.039999999994|               605.75|                   34.0|                       5.0|          165.24000000000004|                    77.39999999999984|           9526.380000000003|                                 0.0|        1.2173913043478262|        8.01901098901099|\n",
      "|         216|2020-02-01 00:00:00|       green|   19758.42000000001|               1245.0|                  110.0|        102.96000000000001|           424.2500000000002|                   195.29999999999953|          21843.379999999954|                                 5.5|        1.1793893129770991|       6.703884785819797|\n",
      "|         238|2020-01-01 00:00:00|       green|   5397.990000000001|                403.5|                   20.0|                       0.0|          124.68000000000002|                   61.199999999999775|           6007.370000000002|                                 0.0|                       1.2|       6.460536585365854|\n",
      "|         126|2020-01-01 00:00:00|       green|  11827.840000000017|               766.75|                  110.5|        101.86999999999999|           458.2800000000002|                    145.1999999999998|          13425.339999999993|                                11.0|                     1.275|       5.187806691449814|\n",
      "|         192|2020-02-01 00:00:00|       green|   6302.809999999999|               376.75|                   44.5|                    353.89|                       54.13|                    71.69999999999989|           7220.180000000004|                                2.75|        1.2681159420289856|       5.143769230769229|\n",
      "+------------+-------------------+------------+--------------------+---------------------+-----------------------+--------------------------+----------------------------+-------------------------------------+----------------------------+------------------------------------+--------------------------+------------------------+\n",
      "only showing top 20 rows\n",
      "\n"
     ]
    },
    {
     "name": "stderr",
     "output_type": "stream",
     "text": [
      "                                                                                \r"
     ]
    }
   ],
   "source": [
    "df_result.show()"
   ]
  },
  {
   "cell_type": "code",
   "execution_count": 47,
   "metadata": {},
   "outputs": [
    {
     "name": "stderr",
     "output_type": "stream",
     "text": [
      "                                                                                \r"
     ]
    }
   ],
   "source": [
    "df_result.coalesce(1).write.parquet('../../../data/report/revenue', mode='overwrite')"
   ]
  },
  {
   "cell_type": "code",
   "execution_count": null,
   "metadata": {},
   "outputs": [],
   "source": []
  }
 ],
 "metadata": {
  "kernelspec": {
   "display_name": "Python 3",
   "language": "python",
   "name": "python3"
  },
  "language_info": {
   "codemirror_mode": {
    "name": "ipython",
    "version": 3
   },
   "file_extension": ".py",
   "mimetype": "text/x-python",
   "name": "python",
   "nbconvert_exporter": "python",
   "pygments_lexer": "ipython3",
   "version": "3.9.13"
  }
 },
 "nbformat": 4,
 "nbformat_minor": 2
}
