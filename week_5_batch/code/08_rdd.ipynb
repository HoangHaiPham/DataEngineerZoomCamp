{
 "cells": [
  {
   "cell_type": "code",
   "execution_count": 1,
   "metadata": {},
   "outputs": [
    {
     "name": "stderr",
     "output_type": "stream",
     "text": [
      "Setting default log level to \"WARN\".\n",
      "To adjust logging level use sc.setLogLevel(newLevel). For SparkR, use setLogLevel(newLevel).\n",
      "24/04/13 09:10:45 WARN NativeCodeLoader: Unable to load native-hadoop library for your platform... using builtin-java classes where applicable\n"
     ]
    }
   ],
   "source": [
    "import pyspark\n",
    "from pyspark.sql import SparkSession\n",
    "\n",
    "spark = SparkSession.builder \\\n",
    "  .master(\"local[*]\") \\\n",
    "  .appName(\"test\") \\\n",
    "  .config(\"spark.executor.instances\", \"8\") \\\n",
    "  .getOrCreate()"
   ]
  },
  {
   "cell_type": "code",
   "execution_count": 2,
   "metadata": {},
   "outputs": [
    {
     "name": "stderr",
     "output_type": "stream",
     "text": [
      "                                                                                \r"
     ]
    }
   ],
   "source": [
    "df_green = spark.read.parquet(\"../../../data/pg/green/2020/01\")"
   ]
  },
  {
   "cell_type": "code",
   "execution_count": null,
   "metadata": {},
   "outputs": [],
   "source": [
    "SELECT \n",
    "  -- Reveneue grouping \n",
    "  date_trunc('hour', lpep_pickup_datetime) AS hour,\n",
    "  PULocationID AS zone,\n",
    "\n",
    "  SUM(total_amount) AS amount,\n",
    "  COUNT(1) AS number_records\n",
    "FROM green\n",
    "WHERE lpep_pickup_datetime >= '2020-01-01 00:00:00'\n",
    "GROUP BY 1, 2\n",
    "ORDER BY 1, 2"
   ]
  },
  {
   "cell_type": "code",
   "execution_count": 5,
   "metadata": {},
   "outputs": [
    {
     "name": "stderr",
     "output_type": "stream",
     "text": [
      "                                                                                \r"
     ]
    },
    {
     "data": {
      "text/plain": [
       "[Row(VendorID=2, lpep_pickup_datetime=datetime.datetime(2020, 1, 12, 18, 15, 4), lpep_dropoff_datetime=datetime.datetime(2020, 1, 12, 18, 19, 52), store_and_fwd_flag='N', RatecodeID=1, PULocationID=41, DOLocationID=41, passenger_count=1, trip_distance=0.78, fare_amount=5.5, extra=0.0, mta_tax=0.5, tip_amount=1.58, tolls_amount=0.0, ehail_fee=None, improvement_surcharge=0.3, total_amount=7.88, payment_type=1, trip_type=1, congestion_surcharge=0.0),\n",
       " Row(VendorID=2, lpep_pickup_datetime=datetime.datetime(2020, 1, 31, 20, 24, 10), lpep_dropoff_datetime=datetime.datetime(2020, 1, 31, 20, 31, 51), store_and_fwd_flag='N', RatecodeID=1, PULocationID=173, DOLocationID=70, passenger_count=1, trip_distance=0.98, fare_amount=7.0, extra=0.5, mta_tax=0.5, tip_amount=0.0, tolls_amount=0.0, ehail_fee=None, improvement_surcharge=0.3, total_amount=8.3, payment_type=2, trip_type=1, congestion_surcharge=0.0),\n",
       " Row(VendorID=2, lpep_pickup_datetime=datetime.datetime(2020, 1, 7, 8, 16, 53), lpep_dropoff_datetime=datetime.datetime(2020, 1, 7, 8, 41, 39), store_and_fwd_flag='N', RatecodeID=1, PULocationID=74, DOLocationID=236, passenger_count=1, trip_distance=2.7, fare_amount=16.0, extra=0.0, mta_tax=0.5, tip_amount=3.91, tolls_amount=0.0, ehail_fee=None, improvement_surcharge=0.3, total_amount=23.46, payment_type=1, trip_type=1, congestion_surcharge=2.75),\n",
       " Row(VendorID=1, lpep_pickup_datetime=datetime.datetime(2020, 1, 15, 14, 47, 15), lpep_dropoff_datetime=datetime.datetime(2020, 1, 15, 14, 54, 34), store_and_fwd_flag='N', RatecodeID=1, PULocationID=25, DOLocationID=66, passenger_count=1, trip_distance=0.8, fare_amount=6.5, extra=0.0, mta_tax=0.5, tip_amount=0.0, tolls_amount=0.0, ehail_fee=None, improvement_surcharge=0.3, total_amount=7.3, payment_type=2, trip_type=1, congestion_surcharge=0.0),\n",
       " Row(VendorID=None, lpep_pickup_datetime=datetime.datetime(2020, 1, 31, 10, 8), lpep_dropoff_datetime=datetime.datetime(2020, 1, 31, 10, 20), store_and_fwd_flag=None, RatecodeID=None, PULocationID=259, DOLocationID=51, passenger_count=None, trip_distance=2.33, fare_amount=22.49, extra=2.75, mta_tax=0.0, tip_amount=0.0, tolls_amount=0.0, ehail_fee=None, improvement_surcharge=0.3, total_amount=25.54, payment_type=None, trip_type=None, congestion_surcharge=None),\n",
       " Row(VendorID=2, lpep_pickup_datetime=datetime.datetime(2020, 1, 18, 17, 46, 45), lpep_dropoff_datetime=datetime.datetime(2020, 1, 18, 18, 4, 8), store_and_fwd_flag='N', RatecodeID=1, PULocationID=177, DOLocationID=188, passenger_count=1, trip_distance=2.62, fare_amount=12.5, extra=0.0, mta_tax=0.5, tip_amount=0.0, tolls_amount=0.0, ehail_fee=None, improvement_surcharge=0.3, total_amount=13.3, payment_type=1, trip_type=1, congestion_surcharge=0.0),\n",
       " Row(VendorID=2, lpep_pickup_datetime=datetime.datetime(2020, 1, 17, 20, 8, 44), lpep_dropoff_datetime=datetime.datetime(2020, 1, 17, 20, 18, 47), store_and_fwd_flag='N', RatecodeID=1, PULocationID=65, DOLocationID=97, passenger_count=1, trip_distance=1.13, fare_amount=8.0, extra=0.5, mta_tax=0.5, tip_amount=1.86, tolls_amount=0.0, ehail_fee=None, improvement_surcharge=0.3, total_amount=11.16, payment_type=1, trip_type=1, congestion_surcharge=0.0),\n",
       " Row(VendorID=None, lpep_pickup_datetime=datetime.datetime(2020, 1, 13, 10, 47), lpep_dropoff_datetime=datetime.datetime(2020, 1, 13, 10, 54), store_and_fwd_flag=None, RatecodeID=None, PULocationID=165, DOLocationID=123, passenger_count=None, trip_distance=1.36, fare_amount=17.51, extra=2.75, mta_tax=0.0, tip_amount=0.0, tolls_amount=0.0, ehail_fee=None, improvement_surcharge=0.3, total_amount=20.56, payment_type=None, trip_type=None, congestion_surcharge=None),\n",
       " Row(VendorID=None, lpep_pickup_datetime=datetime.datetime(2020, 1, 7, 15, 36), lpep_dropoff_datetime=datetime.datetime(2020, 1, 7, 16, 11), store_and_fwd_flag=None, RatecodeID=None, PULocationID=170, DOLocationID=220, passenger_count=None, trip_distance=11.15, fare_amount=46.0, extra=2.75, mta_tax=0.0, tip_amount=0.0, tolls_amount=0.0, ehail_fee=None, improvement_surcharge=0.3, total_amount=49.05, payment_type=None, trip_type=None, congestion_surcharge=None),\n",
       " Row(VendorID=None, lpep_pickup_datetime=datetime.datetime(2020, 1, 10, 11, 47), lpep_dropoff_datetime=datetime.datetime(2020, 1, 10, 12, 3), store_and_fwd_flag=None, RatecodeID=None, PULocationID=74, DOLocationID=41, passenger_count=None, trip_distance=1.78, fare_amount=8.76, extra=0.0, mta_tax=0.5, tip_amount=0.0, tolls_amount=0.0, ehail_fee=None, improvement_surcharge=0.3, total_amount=9.56, payment_type=None, trip_type=None, congestion_surcharge=None)]"
      ]
     },
     "execution_count": 5,
     "metadata": {},
     "output_type": "execute_result"
    }
   ],
   "source": [
    "df_green.rdd.take(10)"
   ]
  },
  {
   "cell_type": "code",
   "execution_count": 12,
   "metadata": {},
   "outputs": [
    {
     "data": {
      "text/plain": [
       "[Row(VendorID=2, lpep_pickup_datetime=datetime.datetime(2020, 4, 28, 15, 30, 20), lpep_dropoff_datetime=datetime.datetime(2020, 4, 28, 15, 37, 22), store_and_fwd_flag='N', RatecodeID=1, PULocationID=74, DOLocationID=42, passenger_count=1, trip_distance=1.68, fare_amount=7.5, extra=0.0, mta_tax=0.5, tip_amount=1.66, tolls_amount=0.0, ehail_fee=None, improvement_surcharge=0.3, total_amount=9.96, payment_type=1, trip_type=1, congestion_surcharge=0.0),\n",
       " Row(VendorID=2, lpep_pickup_datetime=datetime.datetime(2020, 4, 3, 17, 57, 32), lpep_dropoff_datetime=datetime.datetime(2020, 4, 3, 18, 6, 2), store_and_fwd_flag='N', RatecodeID=1, PULocationID=74, DOLocationID=140, passenger_count=1, trip_distance=2.49, fare_amount=10.0, extra=1.0, mta_tax=0.5, tip_amount=1.0, tolls_amount=0.0, ehail_fee=None, improvement_surcharge=0.3, total_amount=15.55, payment_type=1, trip_type=1, congestion_surcharge=2.75),\n",
       " Row(VendorID=None, lpep_pickup_datetime=datetime.datetime(2020, 4, 6, 9, 18), lpep_dropoff_datetime=datetime.datetime(2020, 4, 6, 9, 27), store_and_fwd_flag=None, RatecodeID=None, PULocationID=97, DOLocationID=33, passenger_count=None, trip_distance=0.95, fare_amount=8.4, extra=0.0, mta_tax=0.0, tip_amount=0.0, tolls_amount=0.0, ehail_fee=None, improvement_surcharge=0.3, total_amount=8.7, payment_type=None, trip_type=None, congestion_surcharge=None),\n",
       " Row(VendorID=1, lpep_pickup_datetime=datetime.datetime(2020, 4, 22, 4, 34, 51), lpep_dropoff_datetime=datetime.datetime(2020, 4, 22, 4, 44, 13), store_and_fwd_flag='N', RatecodeID=1, PULocationID=208, DOLocationID=213, passenger_count=1, trip_distance=0.0, fare_amount=22.2, extra=0.0, mta_tax=0.5, tip_amount=0.0, tolls_amount=0.0, ehail_fee=None, improvement_surcharge=0.3, total_amount=23.0, payment_type=1, trip_type=1, congestion_surcharge=0.0),\n",
       " Row(VendorID=None, lpep_pickup_datetime=datetime.datetime(2020, 4, 21, 8, 18), lpep_dropoff_datetime=datetime.datetime(2020, 4, 21, 8, 42), store_and_fwd_flag=None, RatecodeID=None, PULocationID=46, DOLocationID=119, passenger_count=None, trip_distance=13.84, fare_amount=34.63, extra=0.0, mta_tax=0.0, tip_amount=2.75, tolls_amount=12.24, ehail_fee=None, improvement_surcharge=0.3, total_amount=49.92, payment_type=None, trip_type=None, congestion_surcharge=None),\n",
       " Row(VendorID=None, lpep_pickup_datetime=datetime.datetime(2020, 4, 21, 11, 32), lpep_dropoff_datetime=datetime.datetime(2020, 4, 21, 12, 9), store_and_fwd_flag=None, RatecodeID=None, PULocationID=83, DOLocationID=39, passenger_count=None, trip_distance=0.0, fare_amount=38.15, extra=0.0, mta_tax=0.0, tip_amount=2.75, tolls_amount=0.0, ehail_fee=None, improvement_surcharge=0.3, total_amount=41.2, payment_type=None, trip_type=None, congestion_surcharge=None),\n",
       " Row(VendorID=2, lpep_pickup_datetime=datetime.datetime(2020, 4, 20, 20, 56, 21), lpep_dropoff_datetime=datetime.datetime(2020, 4, 20, 21, 3, 24), store_and_fwd_flag='N', RatecodeID=1, PULocationID=95, DOLocationID=56, passenger_count=1, trip_distance=1.45, fare_amount=7.5, extra=0.5, mta_tax=0.5, tip_amount=2.0, tolls_amount=0.0, ehail_fee=None, improvement_surcharge=0.3, total_amount=10.8, payment_type=1, trip_type=1, congestion_surcharge=0.0),\n",
       " Row(VendorID=2, lpep_pickup_datetime=datetime.datetime(2020, 4, 30, 17, 36, 39), lpep_dropoff_datetime=datetime.datetime(2020, 4, 30, 17, 52, 21), store_and_fwd_flag='N', RatecodeID=1, PULocationID=65, DOLocationID=61, passenger_count=1, trip_distance=3.7, fare_amount=14.0, extra=1.0, mta_tax=0.5, tip_amount=3.16, tolls_amount=0.0, ehail_fee=None, improvement_surcharge=0.3, total_amount=18.96, payment_type=1, trip_type=1, congestion_surcharge=0.0),\n",
       " Row(VendorID=None, lpep_pickup_datetime=datetime.datetime(2020, 4, 16, 7, 54), lpep_dropoff_datetime=datetime.datetime(2020, 4, 16, 8, 8), store_and_fwd_flag=None, RatecodeID=None, PULocationID=216, DOLocationID=39, passenger_count=None, trip_distance=6.82, fare_amount=22.07, extra=0.0, mta_tax=0.0, tip_amount=2.75, tolls_amount=0.0, ehail_fee=None, improvement_surcharge=0.3, total_amount=25.12, payment_type=None, trip_type=None, congestion_surcharge=None),\n",
       " Row(VendorID=2, lpep_pickup_datetime=datetime.datetime(2020, 4, 22, 6, 2, 46), lpep_dropoff_datetime=datetime.datetime(2020, 4, 22, 6, 46, 56), store_and_fwd_flag='N', RatecodeID=1, PULocationID=174, DOLocationID=197, passenger_count=1, trip_distance=17.0, fare_amount=54.0, extra=0.0, mta_tax=0.5, tip_amount=2.75, tolls_amount=6.12, ehail_fee=None, improvement_surcharge=0.3, total_amount=63.67, payment_type=1, trip_type=1, congestion_surcharge=0.0)]"
      ]
     },
     "execution_count": 12,
     "metadata": {},
     "output_type": "execute_result"
    }
   ],
   "source": [
    "df_green.take(10)"
   ]
  },
  {
   "cell_type": "code",
   "execution_count": 3,
   "metadata": {},
   "outputs": [],
   "source": [
    "rdd = df_green \\\n",
    "  .select('lpep_pickup_datetime', 'PULocationID', 'total_amount') \\\n",
    "  .rdd\n",
    "  "
   ]
  },
  {
   "cell_type": "code",
   "execution_count": 4,
   "metadata": {},
   "outputs": [
    {
     "name": "stderr",
     "output_type": "stream",
     "text": [
      "                                                                                \r"
     ]
    },
    {
     "data": {
      "text/plain": [
       "[Row(lpep_pickup_datetime=datetime.datetime(2020, 1, 12, 18, 15, 4), PULocationID=41, total_amount=7.88),\n",
       " Row(lpep_pickup_datetime=datetime.datetime(2020, 1, 31, 20, 24, 10), PULocationID=173, total_amount=8.3),\n",
       " Row(lpep_pickup_datetime=datetime.datetime(2020, 1, 7, 8, 16, 53), PULocationID=74, total_amount=23.46),\n",
       " Row(lpep_pickup_datetime=datetime.datetime(2020, 1, 15, 14, 47, 15), PULocationID=25, total_amount=7.3),\n",
       " Row(lpep_pickup_datetime=datetime.datetime(2020, 1, 31, 10, 8), PULocationID=259, total_amount=25.54)]"
      ]
     },
     "execution_count": 4,
     "metadata": {},
     "output_type": "execute_result"
    }
   ],
   "source": [
    "rdd.take(5)"
   ]
  },
  {
   "cell_type": "code",
   "execution_count": 4,
   "metadata": {},
   "outputs": [],
   "source": [
    "from datetime import datetime\n",
    "\n",
    "start = datetime(year=2020, month=1, day=1)\n",
    "\n",
    "def filter_outliers(row):\n",
    "  return row.lpep_pickup_datetime >= start"
   ]
  },
  {
   "cell_type": "code",
   "execution_count": 5,
   "metadata": {},
   "outputs": [
    {
     "name": "stderr",
     "output_type": "stream",
     "text": [
      "                                                                                \r"
     ]
    }
   ],
   "source": [
    "rows = rdd.take(10)\n",
    "row = rows[0]"
   ]
  },
  {
   "cell_type": "code",
   "execution_count": 6,
   "metadata": {},
   "outputs": [
    {
     "data": {
      "text/plain": [
       "datetime.datetime(2020, 1, 12, 18, 0)"
      ]
     },
     "execution_count": 6,
     "metadata": {},
     "output_type": "execute_result"
    }
   ],
   "source": [
    "row.lpep_pickup_datetime.replace(minute=0, second=0, microsecond=0)"
   ]
  },
  {
   "cell_type": "code",
   "execution_count": 7,
   "metadata": {},
   "outputs": [],
   "source": [
    "def prepare_for_grouping(row):\n",
    "  hour = row.lpep_pickup_datetime.replace(minute=0, second=0, microsecond=0)\n",
    "  zone = row.PULocationID\n",
    "  key = (hour, zone)\n",
    "  \n",
    "  amount = row.total_amount\n",
    "  count = 1\n",
    "  value = (amount, count)\n",
    "  \n",
    "  return (key, value)"
   ]
  },
  {
   "cell_type": "code",
   "execution_count": 8,
   "metadata": {},
   "outputs": [
    {
     "data": {
      "text/plain": [
       "[((datetime.datetime(2020, 1, 12, 18, 0), 41), (7.88, 1)),\n",
       " ((datetime.datetime(2020, 1, 31, 20, 0), 173), (8.3, 1)),\n",
       " ((datetime.datetime(2020, 1, 7, 8, 0), 74), (23.46, 1)),\n",
       " ((datetime.datetime(2020, 1, 15, 14, 0), 25), (7.3, 1)),\n",
       " ((datetime.datetime(2020, 1, 31, 10, 0), 259), (25.54, 1)),\n",
       " ((datetime.datetime(2020, 1, 18, 17, 0), 177), (13.3, 1)),\n",
       " ((datetime.datetime(2020, 1, 17, 20, 0), 65), (11.16, 1)),\n",
       " ((datetime.datetime(2020, 1, 13, 10, 0), 165), (20.56, 1)),\n",
       " ((datetime.datetime(2020, 1, 7, 15, 0), 170), (49.05, 1)),\n",
       " ((datetime.datetime(2020, 1, 10, 11, 0), 74), (9.56, 1))]"
      ]
     },
     "execution_count": 8,
     "metadata": {},
     "output_type": "execute_result"
    }
   ],
   "source": [
    "rdd \\\n",
    "  .filter(filter_outliers) \\\n",
    "  .map(prepare_for_grouping) \\\n",
    "  .take(10)"
   ]
  },
  {
   "cell_type": "code",
   "execution_count": 9,
   "metadata": {},
   "outputs": [],
   "source": [
    "def calculate_revenue(left_value, right_value):\n",
    "  left_amount, left_count = left_value\n",
    "  right_amount, right_count = right_value\n",
    "  \n",
    "  output_amount = left_amount + right_amount\n",
    "  output_count = left_count + right_count\n",
    "  \n",
    "  return (output_amount, output_count)\n"
   ]
  },
  {
   "cell_type": "code",
   "execution_count": 10,
   "metadata": {},
   "outputs": [
    {
     "data": {
      "text/plain": [
       "(16.18, 2)"
      ]
     },
     "execution_count": 10,
     "metadata": {},
     "output_type": "execute_result"
    }
   ],
   "source": [
    "calculate_revenue((7.88, 1), (8.3, 1))"
   ]
  },
  {
   "cell_type": "code",
   "execution_count": 13,
   "metadata": {},
   "outputs": [],
   "source": [
    "def unwrap(row):\n",
    "  return (row[0][0], row[0][1], row[1][0], row[1][1])"
   ]
  },
  {
   "cell_type": "code",
   "execution_count": null,
   "metadata": {},
   "outputs": [],
   "source": [
    "rdd.filter(filter_outliers) \\\n",
    "  .map(prepare_for_grouping) \\\n",
    "  .reduceByKey(calculate_revenue) \\\n",
    "  .map(unwrap) \\\n",
    "  .toDF() \\\n",
    "  .take(10)\n"
   ]
  },
  {
   "cell_type": "code",
   "execution_count": 14,
   "metadata": {},
   "outputs": [],
   "source": [
    "from collections import namedtuple\n",
    "\n",
    "RevenueRow = namedtuple('RevenueRow', ['hour', 'zone', 'revenue', 'count'])\n",
    "\n",
    "def unwrap(row):\n",
    "  return RevenueRow(\n",
    "    hour = row[0][0], \n",
    "    zone = row[0][1], \n",
    "    revenue = row[1][0], \n",
    "    count = row[1][1])"
   ]
  },
  {
   "cell_type": "code",
   "execution_count": 15,
   "metadata": {},
   "outputs": [],
   "source": [
    "from pyspark.sql import types\n",
    "\n",
    "result_schema = types.StructType([\n",
    "  types.StructField('hour', types.TimestampType(), True),\n",
    "  types.StructField('zone', types.IntegerType(), True),\n",
    "  types.StructField('revenue', types.DoubleType(), True),\n",
    "  types.StructField('count', types.IntegerType(), True)\n",
    "])"
   ]
  },
  {
   "cell_type": "code",
   "execution_count": 16,
   "metadata": {},
   "outputs": [],
   "source": [
    "df_result = rdd.filter(filter_outliers) \\\n",
    "  .map(prepare_for_grouping) \\\n",
    "  .reduceByKey(calculate_revenue) \\\n",
    "  .map(unwrap) \\\n",
    "  .toDF(result_schema)"
   ]
  },
  {
   "cell_type": "code",
   "execution_count": 17,
   "metadata": {},
   "outputs": [
    {
     "name": "stderr",
     "output_type": "stream",
     "text": [
      "                                                                                \r"
     ]
    },
    {
     "name": "stdout",
     "output_type": "stream",
     "text": [
      "+-------------------+----+------------------+-----+\n",
      "|               hour|zone|           revenue|count|\n",
      "+-------------------+----+------------------+-----+\n",
      "|2020-01-12 18:00:00|  41|            916.74|   66|\n",
      "|2020-01-13 10:00:00| 165| 55.43000000000001|    3|\n",
      "|2020-01-23 10:00:00|  43|             315.4|   19|\n",
      "|2020-01-02 09:00:00| 116|296.53999999999996|   17|\n",
      "|2020-01-03 14:00:00| 242|163.61999999999998|   11|\n",
      "|2020-01-31 21:00:00|  41| 588.1600000000001|   40|\n",
      "|2020-01-26 00:00:00| 258|             56.92|    1|\n",
      "|2020-01-21 16:00:00|  33| 917.3600000000001|   38|\n",
      "|2020-01-11 21:00:00| 244| 336.4700000000001|   10|\n",
      "|2020-01-22 00:00:00|  22|             34.27|    1|\n",
      "|2020-01-03 21:00:00|  74|            544.63|   41|\n",
      "|2020-01-09 08:00:00|  42| 946.8600000000001|   69|\n",
      "|2020-01-09 06:00:00| 124|             47.86|    2|\n",
      "|2020-01-27 10:00:00|  25|            159.37|   11|\n",
      "|2020-01-04 15:00:00|  25|457.37000000000006|   25|\n",
      "|2020-01-24 01:00:00| 129|155.73000000000002|   12|\n",
      "|2020-01-12 15:00:00|  74|1287.1900000000003|   85|\n",
      "|2020-01-15 16:00:00|  25| 551.5699999999999|   22|\n",
      "|2020-01-24 18:00:00| 130|            546.78|   29|\n",
      "|2020-01-14 09:00:00|  41|             655.1|   48|\n",
      "+-------------------+----+------------------+-----+\n",
      "only showing top 20 rows\n",
      "\n"
     ]
    }
   ],
   "source": [
    "df_result.show()"
   ]
  },
  {
   "cell_type": "code",
   "execution_count": null,
   "metadata": {},
   "outputs": [],
   "source": [
    "df_result.write.parquet(\"../../../data/tmp/green-revenue\")"
   ]
  },
  {
   "cell_type": "code",
   "execution_count": null,
   "metadata": {},
   "outputs": [],
   "source": []
  },
  {
   "cell_type": "code",
   "execution_count": 1,
   "metadata": {},
   "outputs": [],
   "source": []
  },
  {
   "cell_type": "markdown",
   "metadata": {},
   "source": [
    "# TEST"
   ]
  },
  {
   "cell_type": "code",
   "execution_count": 3,
   "metadata": {},
   "outputs": [
    {
     "name": "stderr",
     "output_type": "stream",
     "text": [
      "Setting default log level to \"WARN\".\n",
      "To adjust logging level use sc.setLogLevel(newLevel). For SparkR, use setLogLevel(newLevel).\n",
      "24/04/13 08:09:45 WARN NativeCodeLoader: Unable to load native-hadoop library for your platform... using builtin-java classes where applicable\n"
     ]
    }
   ],
   "source": [
    "from pyspark.sql import SparkSession\n",
    "import datetime\n",
    "\n",
    "spark = SparkSession.builder.appName('SparkByExamples.com').getOrCreate()\n",
    "\n",
    "\n",
    "data = [((datetime.datetime(2020, 1, 12, 18, 0), 41), (7.88, 1)),\n",
    " ((datetime.datetime(2020, 1, 31, 20, 0), 173), (8.3, 1)),\n",
    " ((datetime.datetime(2020, 1, 7, 8, 0), 74), (23.46, 1)),\n",
    " ((datetime.datetime(2020, 1, 15, 14, 0), 25), (7.3, 1)),\n",
    " ((datetime.datetime(2020, 1, 31, 10, 0), 259), (25.54, 1)),\n",
    " ((datetime.datetime(2020, 1, 18, 17, 0), 177), (13.3, 1)),\n",
    " ((datetime.datetime(2020, 1, 17, 20, 0), 65), (11.16, 1)),\n",
    " ((datetime.datetime(2020, 1, 13, 10, 0), 165), (20.56, 1)),\n",
    " ((datetime.datetime(2020, 1, 7, 15, 0), 170), (49.05, 1)),\n",
    " ((datetime.datetime(2020, 1, 10, 11, 0), 74), (9.56, 1))]\n",
    "\n",
    "rdd=spark.sparkContext.parallelize(data)\n",
    "\n"
   ]
  },
  {
   "cell_type": "code",
   "execution_count": 4,
   "metadata": {},
   "outputs": [
    {
     "name": "stderr",
     "output_type": "stream",
     "text": [
      "                                                                                \r"
     ]
    },
    {
     "data": {
      "text/plain": [
       "[((datetime.datetime(2020, 1, 12, 18, 0), 41), (7.88, 1)),\n",
       " ((datetime.datetime(2020, 1, 31, 20, 0), 173), (8.3, 1)),\n",
       " ((datetime.datetime(2020, 1, 7, 8, 0), 74), (23.46, 1)),\n",
       " ((datetime.datetime(2020, 1, 15, 14, 0), 25), (7.3, 1)),\n",
       " ((datetime.datetime(2020, 1, 31, 10, 0), 259), (25.54, 1)),\n",
       " ((datetime.datetime(2020, 1, 18, 17, 0), 177), (13.3, 1)),\n",
       " ((datetime.datetime(2020, 1, 17, 20, 0), 65), (11.16, 1)),\n",
       " ((datetime.datetime(2020, 1, 13, 10, 0), 165), (20.56, 1)),\n",
       " ((datetime.datetime(2020, 1, 7, 15, 0), 170), (49.05, 1)),\n",
       " ((datetime.datetime(2020, 1, 10, 11, 0), 74), (9.56, 1))]"
      ]
     },
     "execution_count": 4,
     "metadata": {},
     "output_type": "execute_result"
    }
   ],
   "source": [
    "rdd.take(100)"
   ]
  },
  {
   "cell_type": "code",
   "execution_count": 5,
   "metadata": {},
   "outputs": [],
   "source": [
    "def calculate_revenue(left_value, right_value):\n",
    "  left_amount, left_count = left_value\n",
    "  right_amount, right_count = right_value\n",
    "  \n",
    "  output_amount = left_amount + right_amount\n",
    "  output_count = left_count + right_count\n",
    "  \n",
    "  return (output_amount, output_count)"
   ]
  },
  {
   "cell_type": "code",
   "execution_count": 6,
   "metadata": {},
   "outputs": [
    {
     "name": "stderr",
     "output_type": "stream",
     "text": [
      "[Stage 3:=========>                                               (2 + 10) / 12]\r"
     ]
    },
    {
     "name": "stdout",
     "output_type": "stream",
     "text": [
      "((datetime.datetime(2020, 1, 7, 8, 0), 74), (23.46, 1))\n",
      "((datetime.datetime(2020, 1, 7, 15, 0), 170), (49.05, 1))\n",
      "((datetime.datetime(2020, 1, 17, 20, 0), 65), (11.16, 1))\n",
      "((datetime.datetime(2020, 1, 10, 11, 0), 74), (9.56, 1))\n",
      "((datetime.datetime(2020, 1, 12, 18, 0), 41), (7.88, 1))\n",
      "((datetime.datetime(2020, 1, 31, 20, 0), 173), (8.3, 1))\n",
      "((datetime.datetime(2020, 1, 31, 10, 0), 259), (25.54, 1))\n",
      "((datetime.datetime(2020, 1, 13, 10, 0), 165), (20.56, 1))\n",
      "((datetime.datetime(2020, 1, 15, 14, 0), 25), (7.3, 1))\n",
      "((datetime.datetime(2020, 1, 18, 17, 0), 177), (13.3, 1))\n"
     ]
    },
    {
     "name": "stderr",
     "output_type": "stream",
     "text": [
      "                                                                                \r"
     ]
    }
   ],
   "source": [
    "# rdd2=rdd.reduceByKey(lambda a,b: a+b)\n",
    "rdd2=rdd.reduceByKey(calculate_revenue)\n",
    "\n",
    "for element in rdd2.collect():\n",
    "    print(element)"
   ]
  },
  {
   "cell_type": "code",
   "execution_count": 13,
   "metadata": {},
   "outputs": [
    {
     "data": {
      "text/plain": [
       "[((datetime.datetime(2020, 1, 31, 20, 0), 173), (8.3, 1)),\n",
       " ((datetime.datetime(2020, 1, 31, 10, 0), 259), (25.54, 1)),\n",
       " ((datetime.datetime(2020, 1, 18, 17, 0), 177), (13.3, 1)),\n",
       " ((datetime.datetime(2020, 1, 17, 20, 0), 65), (11.16, 1)),\n",
       " ((datetime.datetime(2020, 1, 15, 14, 0), 25), (7.3, 1))]"
      ]
     },
     "execution_count": 13,
     "metadata": {},
     "output_type": "execute_result"
    }
   ],
   "source": [
    "rdd.top(5)"
   ]
  },
  {
   "cell_type": "code",
   "execution_count": 7,
   "metadata": {},
   "outputs": [],
   "source": [
    "def unwrap(row):\n",
    "  return (row[0][0], row[0][1], row[1][0], row[1][1])"
   ]
  },
  {
   "cell_type": "code",
   "execution_count": 8,
   "metadata": {},
   "outputs": [],
   "source": [
    "rdd2=rdd.reduceByKey(calculate_revenue) \\\n",
    "  .map(unwrap) \\\n",
    "  .toDF()\n"
   ]
  },
  {
   "cell_type": "code",
   "execution_count": 9,
   "metadata": {},
   "outputs": [
    {
     "name": "stdout",
     "output_type": "stream",
     "text": [
      "+-------------------+---+-----+---+\n",
      "|                 _1| _2|   _3| _4|\n",
      "+-------------------+---+-----+---+\n",
      "|2020-01-07 08:00:00| 74|23.46|  1|\n",
      "|2020-01-07 15:00:00|170|49.05|  1|\n",
      "|2020-01-17 20:00:00| 65|11.16|  1|\n",
      "|2020-01-10 11:00:00| 74| 9.56|  1|\n",
      "|2020-01-12 18:00:00| 41| 7.88|  1|\n",
      "|2020-01-31 20:00:00|173|  8.3|  1|\n",
      "|2020-01-31 10:00:00|259|25.54|  1|\n",
      "|2020-01-13 10:00:00|165|20.56|  1|\n",
      "|2020-01-15 14:00:00| 25|  7.3|  1|\n",
      "|2020-01-18 17:00:00|177| 13.3|  1|\n",
      "+-------------------+---+-----+---+\n",
      "\n"
     ]
    }
   ],
   "source": [
    "rdd2.show()"
   ]
  },
  {
   "cell_type": "code",
   "execution_count": null,
   "metadata": {},
   "outputs": [],
   "source": []
  }
 ],
 "metadata": {
  "kernelspec": {
   "display_name": "Python 3",
   "language": "python",
   "name": "python3"
  },
  "language_info": {
   "codemirror_mode": {
    "name": "ipython",
    "version": 3
   },
   "file_extension": ".py",
   "mimetype": "text/x-python",
   "name": "python",
   "nbconvert_exporter": "python",
   "pygments_lexer": "ipython3",
   "version": "3.9.13"
  }
 },
 "nbformat": 4,
 "nbformat_minor": 2
}
